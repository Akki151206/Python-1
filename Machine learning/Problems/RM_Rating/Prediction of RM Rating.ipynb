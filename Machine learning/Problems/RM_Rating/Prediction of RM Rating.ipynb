{
 "cells": [
  {
   "cell_type": "code",
   "execution_count": 1,
   "metadata": {
    "collapsed": true
   },
   "outputs": [],
   "source": [
    "import pandas as pd\n",
    "import numpy as np\n",
    "import matplotlib.pyplot as plt\n",
    "import sklearn\n",
    "from sklearn import metrics\n",
    "from sklearn import linear_model\n",
    "from sklearn.cross_validation import train_test_split\n",
    "\n",
    "%matplotlib inline"
   ]
  },
  {
   "cell_type": "code",
   "execution_count": 2,
   "metadata": {
    "collapsed": true
   },
   "outputs": [],
   "source": [
    "\"\"\" loading for Rm data\"\"\"\n",
    "rm = pd.read_csv('C:/vikas/data/ML/rm_training_01.csv')"
   ]
  },
  {
   "cell_type": "code",
   "execution_count": 4,
   "metadata": {
    "collapsed": false
   },
   "outputs": [
    {
     "name": "stdout",
     "output_type": "stream",
     "text": [
      "<class 'pandas.core.frame.DataFrame'>\n",
      "Int64Index: 818 entries, 0 to 817\n",
      "Data columns (total 10 columns):\n",
      "employee_id                818 non-null int64\n",
      "number_of_jobs             818 non-null int64\n",
      "last_job_type              818 non-null object\n",
      "last_job_industry          818 non-null object\n",
      "experience_in_dbs          818 non-null int64\n",
      "experience_outside_dbs     818 non-null int64\n",
      "experience_in_fin          818 non-null int64\n",
      "experience_in_insurance    818 non-null int64\n",
      "target_achievement         818 non-null object\n",
      "overall_performance        818 non-null int64\n",
      "dtypes: int64(7), object(3)\n",
      "memory usage: 70.3+ KB\n"
     ]
    }
   ],
   "source": [
    "\"\"\" Filling up the NAN Value in Rm dataset \"\"\"\n",
    "rm['last_job_type'].fillna(0,inplace=True)\n",
    "rm['last_job_industry'].fillna(0,inplace=True)\n",
    "rm.info()"
   ]
  },
  {
   "cell_type": "code",
   "execution_count": 104,
   "metadata": {
    "collapsed": false
   },
   "outputs": [
    {
     "data": {
      "text/html": [
       "<div>\n",
       "<table border=\"1\" class=\"dataframe\">\n",
       "  <thead>\n",
       "    <tr style=\"text-align: right;\">\n",
       "      <th>Loan Status</th>\n",
       "      <th>employee_id</th>\n",
       "      <th>bad</th>\n",
       "      <th>good</th>\n",
       "      <th>Success_rate</th>\n",
       "    </tr>\n",
       "  </thead>\n",
       "  <tbody>\n",
       "    <tr>\n",
       "      <th>0</th>\n",
       "      <td>1</td>\n",
       "      <td>4</td>\n",
       "      <td>32</td>\n",
       "      <td>0.889</td>\n",
       "    </tr>\n",
       "    <tr>\n",
       "      <th>1</th>\n",
       "      <td>5</td>\n",
       "      <td>3</td>\n",
       "      <td>23</td>\n",
       "      <td>0.885</td>\n",
       "    </tr>\n",
       "    <tr>\n",
       "      <th>2</th>\n",
       "      <td>9</td>\n",
       "      <td>2</td>\n",
       "      <td>28</td>\n",
       "      <td>0.933</td>\n",
       "    </tr>\n",
       "    <tr>\n",
       "      <th>3</th>\n",
       "      <td>12</td>\n",
       "      <td>7</td>\n",
       "      <td>20</td>\n",
       "      <td>0.741</td>\n",
       "    </tr>\n",
       "    <tr>\n",
       "      <th>4</th>\n",
       "      <td>15</td>\n",
       "      <td>4</td>\n",
       "      <td>21</td>\n",
       "      <td>0.840</td>\n",
       "    </tr>\n",
       "  </tbody>\n",
       "</table>\n",
       "</div>"
      ],
      "text/plain": [
       "Loan Status  employee_id  bad  good  Success_rate\n",
       "0                      1    4    32         0.889\n",
       "1                      5    3    23         0.885\n",
       "2                      9    2    28         0.933\n",
       "3                     12    7    20         0.741\n",
       "4                     15    4    21         0.840"
      ]
     },
     "execution_count": 104,
     "metadata": {},
     "output_type": "execute_result"
    }
   ],
   "source": [
    "\"\"\" loading of loan Training data\"\"\"\n",
    "loan = pd.read_csv('C:/vikas/data/ML/loan_training_01.csv')\n",
    "loan = loan[['rm_employee_id','Loan Status']]\n",
    "\n",
    "\"\"\" Renaming the columns name to match with RM dataset \"\"\"\n",
    "loan.rename(columns = {'rm_employee_id':'employee_id'},inplace = True)\n",
    "\n",
    "\"\"\" Find the count of Good and Bad loan \"\"\"\n",
    "loan = loan.groupby(['employee_id','Loan Status'])['Loan Status'].count().unstack()\n",
    "loan.reset_index(inplace=True)\n",
    "loan.rename(columns = {0:'bad',1:'good'},inplace = True)\n",
    "loan['good'].fillna(0,inplace=True)\n",
    "loan['bad'].fillna(0,inplace=True)\n",
    "\n",
    "\"\"\" Fetching the Success Rate \"\"\"\n",
    "loan['Success_rate'] = loan['good']/(loan['bad'] + loan['good'])\n",
    "loan['Success_rate'] = loan['Success_rate'].apply(lambda x: round(x,3))\n",
    "loan.head()"
   ]
  },
  {
   "cell_type": "code",
   "execution_count": 105,
   "metadata": {
    "collapsed": false
   },
   "outputs": [
    {
     "data": {
      "text/html": [
       "<div>\n",
       "<table border=\"1\" class=\"dataframe\">\n",
       "  <thead>\n",
       "    <tr style=\"text-align: right;\">\n",
       "      <th></th>\n",
       "      <th>employee_id</th>\n",
       "      <th>number_of_jobs</th>\n",
       "      <th>last_job_type</th>\n",
       "      <th>last_job_industry</th>\n",
       "      <th>experience_in_dbs</th>\n",
       "      <th>experience_outside_dbs</th>\n",
       "      <th>experience_in_fin</th>\n",
       "      <th>experience_in_insurance</th>\n",
       "      <th>target_achievement</th>\n",
       "      <th>overall_performance</th>\n",
       "      <th>bad</th>\n",
       "      <th>good</th>\n",
       "      <th>Success_rate</th>\n",
       "    </tr>\n",
       "  </thead>\n",
       "  <tbody>\n",
       "    <tr>\n",
       "      <th>0</th>\n",
       "      <td>1</td>\n",
       "      <td>0</td>\n",
       "      <td>0</td>\n",
       "      <td>0</td>\n",
       "      <td>8</td>\n",
       "      <td>0</td>\n",
       "      <td>8</td>\n",
       "      <td>0</td>\n",
       "      <td>1</td>\n",
       "      <td>1</td>\n",
       "      <td>4</td>\n",
       "      <td>32</td>\n",
       "      <td>0.889</td>\n",
       "    </tr>\n",
       "    <tr>\n",
       "      <th>1</th>\n",
       "      <td>5</td>\n",
       "      <td>0</td>\n",
       "      <td>0</td>\n",
       "      <td>0</td>\n",
       "      <td>4</td>\n",
       "      <td>0</td>\n",
       "      <td>4</td>\n",
       "      <td>0</td>\n",
       "      <td>1</td>\n",
       "      <td>1</td>\n",
       "      <td>3</td>\n",
       "      <td>23</td>\n",
       "      <td>0.885</td>\n",
       "    </tr>\n",
       "    <tr>\n",
       "      <th>2</th>\n",
       "      <td>9</td>\n",
       "      <td>0</td>\n",
       "      <td>0</td>\n",
       "      <td>0</td>\n",
       "      <td>9</td>\n",
       "      <td>0</td>\n",
       "      <td>9</td>\n",
       "      <td>0</td>\n",
       "      <td>1</td>\n",
       "      <td>1</td>\n",
       "      <td>2</td>\n",
       "      <td>28</td>\n",
       "      <td>0.933</td>\n",
       "    </tr>\n",
       "    <tr>\n",
       "      <th>3</th>\n",
       "      <td>12</td>\n",
       "      <td>5</td>\n",
       "      <td>1</td>\n",
       "      <td>1</td>\n",
       "      <td>9</td>\n",
       "      <td>7</td>\n",
       "      <td>13</td>\n",
       "      <td>3</td>\n",
       "      <td>1</td>\n",
       "      <td>2</td>\n",
       "      <td>7</td>\n",
       "      <td>20</td>\n",
       "      <td>0.741</td>\n",
       "    </tr>\n",
       "    <tr>\n",
       "      <th>4</th>\n",
       "      <td>15</td>\n",
       "      <td>0</td>\n",
       "      <td>0</td>\n",
       "      <td>0</td>\n",
       "      <td>4</td>\n",
       "      <td>0</td>\n",
       "      <td>4</td>\n",
       "      <td>0</td>\n",
       "      <td>1</td>\n",
       "      <td>1</td>\n",
       "      <td>4</td>\n",
       "      <td>21</td>\n",
       "      <td>0.840</td>\n",
       "    </tr>\n",
       "  </tbody>\n",
       "</table>\n",
       "</div>"
      ],
      "text/plain": [
       "   employee_id  number_of_jobs  last_job_type  last_job_industry  \\\n",
       "0            1               0              0                  0   \n",
       "1            5               0              0                  0   \n",
       "2            9               0              0                  0   \n",
       "3           12               5              1                  1   \n",
       "4           15               0              0                  0   \n",
       "\n",
       "   experience_in_dbs  experience_outside_dbs  experience_in_fin  \\\n",
       "0                  8                       0                  8   \n",
       "1                  4                       0                  4   \n",
       "2                  9                       0                  9   \n",
       "3                  9                       7                 13   \n",
       "4                  4                       0                  4   \n",
       "\n",
       "   experience_in_insurance  target_achievement  overall_performance  bad  \\\n",
       "0                        0                   1                    1    4   \n",
       "1                        0                   1                    1    3   \n",
       "2                        0                   1                    1    2   \n",
       "3                        3                   1                    2    7   \n",
       "4                        0                   1                    1    4   \n",
       "\n",
       "   good  Success_rate  \n",
       "0    32         0.889  \n",
       "1    23         0.885  \n",
       "2    28         0.933  \n",
       "3    20         0.741  \n",
       "4    21         0.840  "
      ]
     },
     "execution_count": 105,
     "metadata": {},
     "output_type": "execute_result"
    }
   ],
   "source": [
    "\"\"\" Join both loan with rm dataset \"\"\"\n",
    "def fix_job(string):\n",
    "    if string != 0:\n",
    "        return 1\n",
    "    else :\n",
    "        return 0\n",
    "\n",
    "def target(string):\n",
    "    if string == 'MEDIUM' :\n",
    "        return 1\n",
    "    elif string == 'HIGH' :\n",
    "        return 2\n",
    "    else :\n",
    "        return 0\n",
    "    \n",
    "loan_rm = pd.merge(rm,loan, on='employee_id', how='left')\n",
    "loan_rm['target_achievement'] = loan_rm['target_achievement'].apply(target)\n",
    "loan_rm['last_job_type'] = loan_rm['last_job_type'].apply(fix_job)\n",
    "loan_rm['last_job_industry'] = loan_rm['last_job_industry'].apply(fix_job)\n",
    "loan_rm.head()"
   ]
  },
  {
   "cell_type": "code",
   "execution_count": 106,
   "metadata": {
    "collapsed": false
   },
   "outputs": [],
   "source": [
    "\"\"\" Creating the Training and test dataset from the final loan and rm \"\"\"\n",
    "X = loan_rm.drop('overall_performance',axis=1)\n",
    "y = loan_rm['overall_performance']\n",
    "X_train,X_test, y_train,y_test = train_test_split(X, y, test_size=0.40, random_state=101)"
   ]
  },
  {
   "cell_type": "code",
   "execution_count": 107,
   "metadata": {
    "collapsed": false
   },
   "outputs": [
    {
     "data": {
      "text/plain": [
       "LogisticRegression(C=1.0, class_weight=None, dual=False, fit_intercept=True,\n",
       "          intercept_scaling=1, max_iter=100, multi_class='ovr', n_jobs=1,\n",
       "          penalty='l2', random_state=None, solver='liblinear', tol=0.0001,\n",
       "          verbose=0, warm_start=False)"
      ]
     },
     "execution_count": 107,
     "metadata": {},
     "output_type": "execute_result"
    }
   ],
   "source": [
    "# importing th model\n",
    "from sklearn.linear_model import LogisticRegression\n",
    "\n",
    "logmodel = LogisticRegression()\n",
    "logmodel.fit(X_train,y_train)"
   ]
  },
  {
   "cell_type": "code",
   "execution_count": 108,
   "metadata": {
    "collapsed": false
   },
   "outputs": [
    {
     "name": "stdout",
     "output_type": "stream",
     "text": [
      "             precision    recall  f1-score   support\n",
      "\n",
      "          0       0.91      0.24      0.38        42\n",
      "          1       0.87      0.94      0.90       267\n",
      "          2       0.93      0.97      0.95       181\n",
      "\n",
      "avg / total       0.89      0.89      0.87       490\n",
      "\n"
     ]
    }
   ],
   "source": [
    "from sklearn.metrics import confusion_matrix\n",
    "from sklearn.metrics import classification_report\n",
    "\n",
    "# now predict the output on training dataset\n",
    "predict = logmodel.predict(X_train)\n",
    "print(classification_report(y_train,predict))"
   ]
  },
  {
   "cell_type": "code",
   "execution_count": 109,
   "metadata": {
    "collapsed": false
   },
   "outputs": [
    {
     "name": "stdout",
     "output_type": "stream",
     "text": [
      "[[ 10  32   0]\n",
      " [  1 252  14]\n",
      " [  0   6 175]]\n",
      "Accuracy Score: 0.891837\n",
      "F1 Score: 0.874815\n"
     ]
    },
    {
     "name": "stderr",
     "output_type": "stream",
     "text": [
      "C:\\Anaconda2\\lib\\site-packages\\sklearn\\metrics\\classification.py:756: DeprecationWarning: The default `weighted` averaging is deprecated, and from version 0.18, use of precision, recall or F-score with multiclass or multilabel data or pos_label=None will result in an exception. Please set an explicit value for `average`, one of (None, 'micro', 'macro', 'weighted', 'samples'). In cross validation use, for instance, scoring=\"f1_weighted\" instead of scoring=\"f1\".\n",
      "  sample_weight=sample_weight)\n"
     ]
    }
   ],
   "source": [
    "from sklearn.metrics import accuracy_score\n",
    "from sklearn.metrics import f1_score\n",
    "print(confusion_matrix(y_train,predict))\n",
    "print(\"Accuracy Score: %f\" % accuracy_score(y_train,predict))\n",
    "print(\"F1 Score: %f\" % f1_score(y_train,predict))"
   ]
  },
  {
   "cell_type": "markdown",
   "metadata": {},
   "source": [
    "# Now predicting the Final Rating of RM on the basis of Loan given to good and bad customer"
   ]
  },
  {
   "cell_type": "code",
   "execution_count": 115,
   "metadata": {
    "collapsed": false
   },
   "outputs": [
    {
     "data": {
      "text/html": [
       "<div>\n",
       "<table border=\"1\" class=\"dataframe\">\n",
       "  <thead>\n",
       "    <tr style=\"text-align: right;\">\n",
       "      <th>Loan Status</th>\n",
       "      <th>employee_id</th>\n",
       "      <th>bad</th>\n",
       "      <th>good</th>\n",
       "      <th>Success_rate</th>\n",
       "    </tr>\n",
       "  </thead>\n",
       "  <tbody>\n",
       "    <tr>\n",
       "      <th>0</th>\n",
       "      <td>0</td>\n",
       "      <td>1</td>\n",
       "      <td>5</td>\n",
       "      <td>0.833</td>\n",
       "    </tr>\n",
       "    <tr>\n",
       "      <th>1</th>\n",
       "      <td>2</td>\n",
       "      <td>0</td>\n",
       "      <td>4</td>\n",
       "      <td>1.000</td>\n",
       "    </tr>\n",
       "    <tr>\n",
       "      <th>2</th>\n",
       "      <td>3</td>\n",
       "      <td>0</td>\n",
       "      <td>5</td>\n",
       "      <td>1.000</td>\n",
       "    </tr>\n",
       "    <tr>\n",
       "      <th>3</th>\n",
       "      <td>4</td>\n",
       "      <td>0</td>\n",
       "      <td>7</td>\n",
       "      <td>1.000</td>\n",
       "    </tr>\n",
       "    <tr>\n",
       "      <th>4</th>\n",
       "      <td>6</td>\n",
       "      <td>0</td>\n",
       "      <td>7</td>\n",
       "      <td>1.000</td>\n",
       "    </tr>\n",
       "  </tbody>\n",
       "</table>\n",
       "</div>"
      ],
      "text/plain": [
       "Loan Status  employee_id  bad  good  Success_rate\n",
       "0                      0    1     5         0.833\n",
       "1                      2    0     4         1.000\n",
       "2                      3    0     5         1.000\n",
       "3                      4    0     7         1.000\n",
       "4                      6    0     7         1.000"
      ]
     },
     "execution_count": 115,
     "metadata": {},
     "output_type": "execute_result"
    }
   ],
   "source": [
    "\"\"\" Now predicting the RM rating\"\"\"\n",
    "loan_final = pd.read_csv('C:/vikas/data/ML/loan_evaluation02_results.csv')\n",
    "loan_final = loan_final[['rm_employee_id','Loan Status']]\n",
    "loan_final.rename(columns = {'rm_employee_id':'employee_id'},inplace = True)\n",
    "loan_final = loan_final.groupby(['employee_id','Loan Status'])['Loan Status'].count().unstack()\n",
    "loan_final.reset_index(inplace=True)\n",
    "loan_final.rename(columns = {0:'bad',1:'good'},inplace = True)\n",
    "loan_final['good'].fillna(0,inplace=True)\n",
    "loan_final['bad'].fillna(0,inplace=True)\n",
    "loan_final['Success_rate'] = loan_final['good']/(loan_final['bad'] + loan_final['good'])\n",
    "loan_final['Success_rate'] = loan_final['Success_rate'].apply(lambda x: round(x,3))\n",
    "loan_final.head()"
   ]
  },
  {
   "cell_type": "code",
   "execution_count": 132,
   "metadata": {
    "collapsed": false
   },
   "outputs": [
    {
     "data": {
      "text/html": [
       "<div>\n",
       "<table border=\"1\" class=\"dataframe\">\n",
       "  <thead>\n",
       "    <tr style=\"text-align: right;\">\n",
       "      <th></th>\n",
       "      <th>employee_id</th>\n",
       "      <th>number_of_jobs</th>\n",
       "      <th>last_job_type</th>\n",
       "      <th>last_job_industry</th>\n",
       "      <th>experience_in_dbs</th>\n",
       "      <th>experience_outside_dbs</th>\n",
       "      <th>experience_in_fin</th>\n",
       "      <th>experience_in_insurance</th>\n",
       "      <th>target_achievement</th>\n",
       "      <th>bad</th>\n",
       "      <th>good</th>\n",
       "      <th>Success_rate</th>\n",
       "    </tr>\n",
       "  </thead>\n",
       "  <tbody>\n",
       "    <tr>\n",
       "      <th>0</th>\n",
       "      <td>1921</td>\n",
       "      <td>0</td>\n",
       "      <td>1</td>\n",
       "      <td>1</td>\n",
       "      <td>6</td>\n",
       "      <td>0</td>\n",
       "      <td>6</td>\n",
       "      <td>0</td>\n",
       "      <td>1</td>\n",
       "      <td>0</td>\n",
       "      <td>8</td>\n",
       "      <td>1</td>\n",
       "    </tr>\n",
       "    <tr>\n",
       "      <th>1</th>\n",
       "      <td>2839</td>\n",
       "      <td>4</td>\n",
       "      <td>1</td>\n",
       "      <td>1</td>\n",
       "      <td>10</td>\n",
       "      <td>7</td>\n",
       "      <td>12</td>\n",
       "      <td>5</td>\n",
       "      <td>2</td>\n",
       "      <td>0</td>\n",
       "      <td>5</td>\n",
       "      <td>1</td>\n",
       "    </tr>\n",
       "    <tr>\n",
       "      <th>2</th>\n",
       "      <td>1942</td>\n",
       "      <td>0</td>\n",
       "      <td>1</td>\n",
       "      <td>1</td>\n",
       "      <td>3</td>\n",
       "      <td>0</td>\n",
       "      <td>3</td>\n",
       "      <td>0</td>\n",
       "      <td>1</td>\n",
       "      <td>0</td>\n",
       "      <td>4</td>\n",
       "      <td>1</td>\n",
       "    </tr>\n",
       "    <tr>\n",
       "      <th>3</th>\n",
       "      <td>1202</td>\n",
       "      <td>0</td>\n",
       "      <td>1</td>\n",
       "      <td>1</td>\n",
       "      <td>10</td>\n",
       "      <td>0</td>\n",
       "      <td>10</td>\n",
       "      <td>0</td>\n",
       "      <td>1</td>\n",
       "      <td>0</td>\n",
       "      <td>6</td>\n",
       "      <td>1</td>\n",
       "    </tr>\n",
       "    <tr>\n",
       "      <th>4</th>\n",
       "      <td>3761</td>\n",
       "      <td>0</td>\n",
       "      <td>1</td>\n",
       "      <td>1</td>\n",
       "      <td>5</td>\n",
       "      <td>0</td>\n",
       "      <td>5</td>\n",
       "      <td>0</td>\n",
       "      <td>1</td>\n",
       "      <td>0</td>\n",
       "      <td>6</td>\n",
       "      <td>1</td>\n",
       "    </tr>\n",
       "  </tbody>\n",
       "</table>\n",
       "</div>"
      ],
      "text/plain": [
       "   employee_id  number_of_jobs  last_job_type  last_job_industry  \\\n",
       "0         1921               0              1                  1   \n",
       "1         2839               4              1                  1   \n",
       "2         1942               0              1                  1   \n",
       "3         1202               0              1                  1   \n",
       "4         3761               0              1                  1   \n",
       "\n",
       "   experience_in_dbs  experience_outside_dbs  experience_in_fin  \\\n",
       "0                  6                       0                  6   \n",
       "1                 10                       7                 12   \n",
       "2                  3                       0                  3   \n",
       "3                 10                       0                 10   \n",
       "4                  5                       0                  5   \n",
       "\n",
       "   experience_in_insurance  target_achievement  bad  good  Success_rate  \n",
       "0                        0                   1    0     8             1  \n",
       "1                        5                   2    0     5             1  \n",
       "2                        0                   1    0     4             1  \n",
       "3                        0                   1    0     6             1  \n",
       "4                        0                   1    0     6             1  "
      ]
     },
     "execution_count": 132,
     "metadata": {},
     "output_type": "execute_result"
    }
   ],
   "source": [
    "\"\"\" Join both loan with rm \"\"\"\n",
    "def fix_job(string):\n",
    "    if string != 0:\n",
    "        return 1\n",
    "    else :\n",
    "        return 0\n",
    "\n",
    "def target(string):\n",
    "    if string == 'MEDIUM' :\n",
    "        return 1\n",
    "    elif string == 'HIGH' :\n",
    "        return 2\n",
    "    else :\n",
    "        return 0\n",
    "\n",
    "rm_final = pd.read_csv('C:/vikas/data/ML/rm_evaluation_02.csv')\n",
    "rm_final.rename(columns = {'id':'employee_id'},inplace= True)\n",
    "loan_rm_final = pd.merge(rm_final,loan_final, on='employee_id', how='left')\n",
    "loan_rm_final['target_achievement'] = loan_rm_final['target_achievement'].apply(target)\n",
    "loan_rm_final['last_job_type'] = loan_rm_final['last_job_type'].apply(fix_job)\n",
    "loan_rm_final['last_job_industry'] = loan_rm_final['last_job_industry'].apply(fix_job)\n",
    "loan_rm_final.drop('overall_rating',axis=1,inplace=True)\n",
    "loan_rm_final.head()"
   ]
  },
  {
   "cell_type": "code",
   "execution_count": 133,
   "metadata": {
    "collapsed": false
   },
   "outputs": [
    {
     "data": {
      "text/html": [
       "<div>\n",
       "<table border=\"1\" class=\"dataframe\">\n",
       "  <thead>\n",
       "    <tr style=\"text-align: right;\">\n",
       "      <th></th>\n",
       "      <th>employee_id</th>\n",
       "      <th>number_of_jobs</th>\n",
       "      <th>last_job_type</th>\n",
       "      <th>last_job_industry</th>\n",
       "      <th>experience_in_dbs</th>\n",
       "      <th>experience_outside_dbs</th>\n",
       "      <th>experience_in_fin</th>\n",
       "      <th>experience_in_insurance</th>\n",
       "      <th>target_achievement</th>\n",
       "      <th>bad</th>\n",
       "      <th>good</th>\n",
       "      <th>Success_rate</th>\n",
       "      <th>overall_rating</th>\n",
       "    </tr>\n",
       "  </thead>\n",
       "  <tbody>\n",
       "    <tr>\n",
       "      <th>0</th>\n",
       "      <td>1921</td>\n",
       "      <td>0</td>\n",
       "      <td>1</td>\n",
       "      <td>1</td>\n",
       "      <td>6</td>\n",
       "      <td>0</td>\n",
       "      <td>6</td>\n",
       "      <td>0</td>\n",
       "      <td>1</td>\n",
       "      <td>0</td>\n",
       "      <td>8</td>\n",
       "      <td>1</td>\n",
       "      <td>1</td>\n",
       "    </tr>\n",
       "    <tr>\n",
       "      <th>1</th>\n",
       "      <td>2839</td>\n",
       "      <td>4</td>\n",
       "      <td>1</td>\n",
       "      <td>1</td>\n",
       "      <td>10</td>\n",
       "      <td>7</td>\n",
       "      <td>12</td>\n",
       "      <td>5</td>\n",
       "      <td>2</td>\n",
       "      <td>0</td>\n",
       "      <td>5</td>\n",
       "      <td>1</td>\n",
       "      <td>2</td>\n",
       "    </tr>\n",
       "    <tr>\n",
       "      <th>2</th>\n",
       "      <td>1942</td>\n",
       "      <td>0</td>\n",
       "      <td>1</td>\n",
       "      <td>1</td>\n",
       "      <td>3</td>\n",
       "      <td>0</td>\n",
       "      <td>3</td>\n",
       "      <td>0</td>\n",
       "      <td>1</td>\n",
       "      <td>0</td>\n",
       "      <td>4</td>\n",
       "      <td>1</td>\n",
       "      <td>0</td>\n",
       "    </tr>\n",
       "    <tr>\n",
       "      <th>3</th>\n",
       "      <td>1202</td>\n",
       "      <td>0</td>\n",
       "      <td>1</td>\n",
       "      <td>1</td>\n",
       "      <td>10</td>\n",
       "      <td>0</td>\n",
       "      <td>10</td>\n",
       "      <td>0</td>\n",
       "      <td>1</td>\n",
       "      <td>0</td>\n",
       "      <td>6</td>\n",
       "      <td>1</td>\n",
       "      <td>1</td>\n",
       "    </tr>\n",
       "    <tr>\n",
       "      <th>4</th>\n",
       "      <td>3761</td>\n",
       "      <td>0</td>\n",
       "      <td>1</td>\n",
       "      <td>1</td>\n",
       "      <td>5</td>\n",
       "      <td>0</td>\n",
       "      <td>5</td>\n",
       "      <td>0</td>\n",
       "      <td>1</td>\n",
       "      <td>0</td>\n",
       "      <td>6</td>\n",
       "      <td>1</td>\n",
       "      <td>0</td>\n",
       "    </tr>\n",
       "  </tbody>\n",
       "</table>\n",
       "</div>"
      ],
      "text/plain": [
       "   employee_id  number_of_jobs  last_job_type  last_job_industry  \\\n",
       "0         1921               0              1                  1   \n",
       "1         2839               4              1                  1   \n",
       "2         1942               0              1                  1   \n",
       "3         1202               0              1                  1   \n",
       "4         3761               0              1                  1   \n",
       "\n",
       "   experience_in_dbs  experience_outside_dbs  experience_in_fin  \\\n",
       "0                  6                       0                  6   \n",
       "1                 10                       7                 12   \n",
       "2                  3                       0                  3   \n",
       "3                 10                       0                 10   \n",
       "4                  5                       0                  5   \n",
       "\n",
       "   experience_in_insurance  target_achievement  bad  good  Success_rate  \\\n",
       "0                        0                   1    0     8             1   \n",
       "1                        5                   2    0     5             1   \n",
       "2                        0                   1    0     4             1   \n",
       "3                        0                   1    0     6             1   \n",
       "4                        0                   1    0     6             1   \n",
       "\n",
       "   overall_rating  \n",
       "0               1  \n",
       "1               2  \n",
       "2               0  \n",
       "3               1  \n",
       "4               0  "
      ]
     },
     "execution_count": 133,
     "metadata": {},
     "output_type": "execute_result"
    }
   ],
   "source": [
    "\"\"\" Final Prediction \"\"\"\n",
    "predict = logmodel.predict(loan_rm_final)\n",
    "loan_rm_final['overall_rating'] = predict\n",
    "loan_rm_final.head()"
   ]
  },
  {
   "cell_type": "code",
   "execution_count": 137,
   "metadata": {
    "collapsed": false
   },
   "outputs": [],
   "source": [
    "loan_rm_final[['employee_id','overall_rating']].to_csv('C:/vikas/data/ML/final_output.csv', index=False)"
   ]
  },
  {
   "cell_type": "markdown",
   "metadata": {},
   "source": [
    "# DONE!!!"
   ]
  },
  {
   "cell_type": "code",
   "execution_count": null,
   "metadata": {
    "collapsed": true
   },
   "outputs": [],
   "source": []
  }
 ],
 "metadata": {
  "kernelspec": {
   "display_name": "Python 2",
   "language": "python",
   "name": "python2"
  },
  "language_info": {
   "codemirror_mode": {
    "name": "ipython",
    "version": 2
   },
   "file_extension": ".py",
   "mimetype": "text/x-python",
   "name": "python",
   "nbconvert_exporter": "python",
   "pygments_lexer": "ipython2",
   "version": "2.7.11"
  }
 },
 "nbformat": 4,
 "nbformat_minor": 0
}
