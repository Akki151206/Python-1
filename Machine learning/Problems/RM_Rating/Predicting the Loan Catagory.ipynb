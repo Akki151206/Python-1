{
 "cells": [
  {
   "cell_type": "code",
   "execution_count": 133,
   "metadata": {
    "collapsed": false
   },
   "outputs": [],
   "source": [
    "\"\"\" Importing the modules \"\"\"\n",
    "import pandas as pd\n",
    "import numpy as np\n",
    "import matplotlib.pyplot as plt\n",
    "import sklearn\n",
    "from sklearn import metrics\n",
    "from sklearn import linear_model\n",
    "from sklearn.cross_validation import train_test_split\n",
    "\n",
    "%matplotlib inline"
   ]
  },
  {
   "cell_type": "code",
   "execution_count": 134,
   "metadata": {
    "collapsed": false
   },
   "outputs": [],
   "source": [
    "\"\"\" loading for loan data\"\"\"\n",
    "loan = pd.read_csv('C:/vikas/data/ML/loan_training_01.csv')"
   ]
  },
  {
   "cell_type": "code",
   "execution_count": 135,
   "metadata": {
    "collapsed": false
   },
   "outputs": [],
   "source": [
    "\"\"\" Converting the values into Numerical format \"\"\"\n",
    "def verified(string):\n",
    "    if 'Not' in string:\n",
    "        return 0\n",
    "    else :\n",
    "        return 1\n",
    "    \n",
    "def fix_borrower(string):\n",
    "    if string in 'Under Mortgage':\n",
    "        return 0\n",
    "    elif string in 'Own':\n",
    "        return 2\n",
    "    if string in 'Rental':\n",
    "        return 1\n",
    "    if string in 'Other':\n",
    "        return -1\n",
    "    if string in 'Info Not Available':\n",
    "        return -2\n",
    "    \n",
    "def fix_loan(string):\n",
    "    return int(string.split()[0])\n",
    "\n",
    "def fix_float(string):\n",
    "    return round(string,2)\n",
    "\n",
    "loan['EMI'] = loan['EMI'].apply(fix_float)\n",
    "loan['Last Amount Received as Payment'] = loan['Last Amount Received as Payment'].apply(fix_float)\n",
    "loan['Loan Duration'] = loan['Loan Duration'].apply(fix_loan)\n",
    "loan['Home Ownership of Borrower'] = loan['Home Ownership of Borrower'].apply(fix_borrower)\n",
    "loan['Borrower\\'s Verification Status'] = loan['Borrower\\'s Verification Status'].apply(verified)"
   ]
  },
  {
   "cell_type": "code",
   "execution_count": 136,
   "metadata": {
    "collapsed": false
   },
   "outputs": [
    {
     "data": {
      "text/html": [
       "<div>\n",
       "<table border=\"1\" class=\"dataframe\">\n",
       "  <thead>\n",
       "    <tr style=\"text-align: right;\">\n",
       "      <th></th>\n",
       "      <th>Loan Application Number</th>\n",
       "      <th>Loan Amount</th>\n",
       "      <th>Loan Duration</th>\n",
       "      <th>EMI</th>\n",
       "      <th>Home Ownership of Borrower</th>\n",
       "      <th>Annual Income of Borrower</th>\n",
       "      <th>Borrower's Verification Status</th>\n",
       "      <th>Borrower Delinquency in Last Two Years</th>\n",
       "      <th>Number of Months Since the Borrower's Last Delinquency</th>\n",
       "      <th>Number of Times the Borrower has Availed Loan from the Bank</th>\n",
       "      <th>Number of Negative Comments About the Borrower in Credit History</th>\n",
       "      <th>Total Credit Revolving Balance</th>\n",
       "      <th>Late Fees Received To Date</th>\n",
       "      <th>Last Amount Received as Payment</th>\n",
       "      <th>rm_employee_id</th>\n",
       "      <th>Loan Status</th>\n",
       "    </tr>\n",
       "  </thead>\n",
       "  <tbody>\n",
       "    <tr>\n",
       "      <th>0</th>\n",
       "      <td>1444</td>\n",
       "      <td>385182</td>\n",
       "      <td>51</td>\n",
       "      <td>9955.33</td>\n",
       "      <td>0</td>\n",
       "      <td>934125</td>\n",
       "      <td>1</td>\n",
       "      <td>0</td>\n",
       "      <td>0</td>\n",
       "      <td>9</td>\n",
       "      <td>0</td>\n",
       "      <td>193772</td>\n",
       "      <td>0</td>\n",
       "      <td>310882.11</td>\n",
       "      <td>1</td>\n",
       "      <td>1</td>\n",
       "    </tr>\n",
       "    <tr>\n",
       "      <th>1</th>\n",
       "      <td>11495</td>\n",
       "      <td>79080</td>\n",
       "      <td>44</td>\n",
       "      <td>2158.89</td>\n",
       "      <td>1</td>\n",
       "      <td>424889</td>\n",
       "      <td>0</td>\n",
       "      <td>0</td>\n",
       "      <td>0</td>\n",
       "      <td>10</td>\n",
       "      <td>0</td>\n",
       "      <td>135665</td>\n",
       "      <td>0</td>\n",
       "      <td>2163.40</td>\n",
       "      <td>1</td>\n",
       "      <td>1</td>\n",
       "    </tr>\n",
       "    <tr>\n",
       "      <th>2</th>\n",
       "      <td>14082</td>\n",
       "      <td>109993</td>\n",
       "      <td>46</td>\n",
       "      <td>3189.16</td>\n",
       "      <td>0</td>\n",
       "      <td>1539008</td>\n",
       "      <td>1</td>\n",
       "      <td>0</td>\n",
       "      <td>0</td>\n",
       "      <td>14</td>\n",
       "      <td>0</td>\n",
       "      <td>722849</td>\n",
       "      <td>0</td>\n",
       "      <td>3469.55</td>\n",
       "      <td>1</td>\n",
       "      <td>1</td>\n",
       "    </tr>\n",
       "  </tbody>\n",
       "</table>\n",
       "</div>"
      ],
      "text/plain": [
       "   Loan Application Number  Loan Amount  Loan Duration      EMI  \\\n",
       "0                     1444       385182             51  9955.33   \n",
       "1                    11495        79080             44  2158.89   \n",
       "2                    14082       109993             46  3189.16   \n",
       "\n",
       "   Home Ownership of Borrower  Annual Income of Borrower  \\\n",
       "0                           0                     934125   \n",
       "1                           1                     424889   \n",
       "2                           0                    1539008   \n",
       "\n",
       "   Borrower's Verification Status  Borrower Delinquency in Last Two Years  \\\n",
       "0                               1                                       0   \n",
       "1                               0                                       0   \n",
       "2                               1                                       0   \n",
       "\n",
       "   Number of Months Since the Borrower's Last Delinquency  \\\n",
       "0                                                  0        \n",
       "1                                                  0        \n",
       "2                                                  0        \n",
       "\n",
       "   Number of Times the Borrower has Availed Loan from the Bank  \\\n",
       "0                                                  9             \n",
       "1                                                 10             \n",
       "2                                                 14             \n",
       "\n",
       "   Number of Negative Comments About the Borrower in Credit History  \\\n",
       "0                                                  0                  \n",
       "1                                                  0                  \n",
       "2                                                  0                  \n",
       "\n",
       "   Total Credit Revolving Balance  Late Fees Received To Date  \\\n",
       "0                          193772                           0   \n",
       "1                          135665                           0   \n",
       "2                          722849                           0   \n",
       "\n",
       "   Last Amount Received as Payment  rm_employee_id  Loan Status  \n",
       "0                        310882.11               1            1  \n",
       "1                          2163.40               1            1  \n",
       "2                          3469.55               1            1  "
      ]
     },
     "execution_count": 136,
     "metadata": {},
     "output_type": "execute_result"
    }
   ],
   "source": [
    "\"\"\" Dropping the Not required Collumns \"\"\"\n",
    "loan.drop(['Borrower\\'s Duration of Employment','Borrower Rating by Bank',\n",
    "'Last Month Payment was Received','Purpose of Loan','Loan Issue Date',\n",
    "'Number of Times the Borrower has Availed Loan from All Banks',\n",
    "'Percentage of Credit the Borrower is Using Relative to All Available Revolving Credit', \n",
    "'Date of Borrower\\'s First  Loan','Interest Rate',\n",
    "'The Number of Months Since the Borrower\\'s Credit Record  was Updated',\n",
    "'Debt-to-Income Ratio (A ratio calculated based on Borrower\\'s monthly debt repayments to self-reported monthly income)'],axis=1, inplace=True)\n",
    "loan.head(3)"
   ]
  },
  {
   "cell_type": "code",
   "execution_count": 139,
   "metadata": {
    "collapsed": false
   },
   "outputs": [
    {
     "name": "stdout",
     "output_type": "stream",
     "text": [
      "<class 'pandas.core.frame.DataFrame'>\n",
      "Int64Index: 24000 entries, 0 to 23999\n",
      "Data columns (total 16 columns):\n",
      "Loan Application Number                                             24000 non-null int64\n",
      "Loan Amount                                                         24000 non-null int64\n",
      "Loan Duration                                                       24000 non-null int64\n",
      "EMI                                                                 24000 non-null float64\n",
      "Home Ownership of Borrower                                          24000 non-null int64\n",
      "Annual Income of Borrower                                           24000 non-null float64\n",
      "Borrower's Verification Status                                      24000 non-null int64\n",
      "Borrower Delinquency in Last Two Years                              23983 non-null float64\n",
      "Number of Months Since the Borrower's Last Delinquency              24000 non-null float64\n",
      "Number of Times the Borrower has Availed Loan from the Bank         23983 non-null float64\n",
      "Number of Negative Comments About the Borrower in Credit History    23983 non-null float64\n",
      "Total Credit Revolving Balance                                      23953 non-null float64\n",
      "Late Fees Received To Date                                          24000 non-null float64\n",
      "Last Amount Received as Payment                                     24000 non-null float64\n",
      "rm_employee_id                                                      24000 non-null int64\n",
      "Loan Status                                                         24000 non-null int64\n",
      "dtypes: float64(9), int64(7)\n",
      "memory usage: 3.1 MB\n"
     ]
    }
   ],
   "source": [
    "loan.info()"
   ]
  },
  {
   "cell_type": "code",
   "execution_count": 140,
   "metadata": {
    "collapsed": true
   },
   "outputs": [],
   "source": [
    "\"\"\" Fix Nan \"\"\"\n",
    "loan['Borrower Delinquency in Last Two Years'].fillna(0, inplace=True)\n",
    "loan['Number of Times the Borrower has Availed Loan from the Bank'].fillna(0, inplace=True)\n",
    "loan['Number of Negative Comments About the Borrower in Credit History'].fillna(0, inplace=True)\n",
    "loan['Total Credit Revolving Balance'].fillna(0, inplace=True)\n",
    "loan['Number of Months Since the Borrower\\'s Last Delinquency'].fillna(0, inplace=True)"
   ]
  },
  {
   "cell_type": "code",
   "execution_count": 141,
   "metadata": {
    "collapsed": false
   },
   "outputs": [],
   "source": [
    "\"\"\" Splitting the trainning data into test and training set \"\"\"\n",
    "X = loan.drop('Loan Status',axis=1)\n",
    "y = loan['Loan Status']\n",
    "X_train,X_test, y_train,y_test = train_test_split(X, y, test_size=0.40, random_state=101)"
   ]
  },
  {
   "cell_type": "code",
   "execution_count": 142,
   "metadata": {
    "collapsed": false
   },
   "outputs": [
    {
     "data": {
      "text/plain": [
       "LogisticRegression(C=1.0, class_weight=None, dual=False, fit_intercept=True,\n",
       "          intercept_scaling=1, max_iter=100, multi_class='ovr', n_jobs=1,\n",
       "          penalty='l2', random_state=None, solver='liblinear', tol=0.0001,\n",
       "          verbose=0, warm_start=False)"
      ]
     },
     "execution_count": 142,
     "metadata": {},
     "output_type": "execute_result"
    }
   ],
   "source": [
    " \"\"\"importing the model\"\"\"\n",
    "from sklearn.linear_model import LogisticRegression\n",
    "\n",
    "logmodel = LogisticRegression()\n",
    "logmodel.fit(X_train,y_train)"
   ]
  },
  {
   "cell_type": "code",
   "execution_count": 143,
   "metadata": {
    "collapsed": false
   },
   "outputs": [
    {
     "name": "stdout",
     "output_type": "stream",
     "text": [
      "             precision    recall  f1-score   support\n",
      "\n",
      "          0       0.53      0.08      0.14      2091\n",
      "          1       0.86      0.99      0.92     12309\n",
      "\n",
      "avg / total       0.81      0.86      0.81     14400\n",
      "\n"
     ]
    }
   ],
   "source": [
    " \"\"\"now predict the output on training dataset\"\"\"\n",
    "from sklearn.metrics import confusion_matrix\n",
    "from sklearn.metrics import classification_report\n",
    "\n",
    "predict = logmodel.predict(X_train)\n",
    "print(classification_report(y_train,predict))"
   ]
  },
  {
   "cell_type": "code",
   "execution_count": 144,
   "metadata": {
    "collapsed": false
   },
   "outputs": [
    {
     "name": "stdout",
     "output_type": "stream",
     "text": [
      "[[  168  1923]\n",
      " [  150 12159]]\n",
      "Accuracy Score: 0.856042\n",
      "F1 Score: 0.921450\n"
     ]
    }
   ],
   "source": [
    "\"\"\" Checking the Accuracy of the model \"\"\"\n",
    "from sklearn.metrics import accuracy_score\n",
    "from sklearn.metrics import f1_score\n",
    "print(confusion_matrix(y_train,predict))\n",
    "print(\"Accuracy Score: %f\" % accuracy_score(y_train,predict))\n",
    "print(\"F1 Score: %f\" % f1_score(y_train,predict))"
   ]
  },
  {
   "cell_type": "markdown",
   "metadata": {},
   "source": [
    "# Now Predicting the Loan Evaluation dataset"
   ]
  },
  {
   "cell_type": "code",
   "execution_count": 145,
   "metadata": {
    "collapsed": true
   },
   "outputs": [],
   "source": [
    "\"\"\" Predition of Evaluation of Loan Data \"\"\"\n",
    "loan_eva = pd.read_csv('C:/vikas/data/ML/loan_evaluation02.csv')"
   ]
  },
  {
   "cell_type": "code",
   "execution_count": 146,
   "metadata": {
    "collapsed": false
   },
   "outputs": [
    {
     "data": {
      "text/html": [
       "<div>\n",
       "<table border=\"1\" class=\"dataframe\">\n",
       "  <thead>\n",
       "    <tr style=\"text-align: right;\">\n",
       "      <th></th>\n",
       "      <th>Loan Application Number</th>\n",
       "      <th>Loan Amount</th>\n",
       "      <th>Loan Duration</th>\n",
       "      <th>EMI</th>\n",
       "      <th>Home Ownership of Borrower</th>\n",
       "      <th>Annual Income of Borrower</th>\n",
       "      <th>Borrower's Verification Status</th>\n",
       "      <th>Borrower Delinquency in Last Two Years</th>\n",
       "      <th>Number of Months Since the Borrower's Last Delinquency</th>\n",
       "      <th>Number of Times the Borrower has Availed Loan from the Bank</th>\n",
       "      <th>Number of Negative Comments About the Borrower in Credit History</th>\n",
       "      <th>Total Credit Revolving Balance</th>\n",
       "      <th>Late Fees Received To Date</th>\n",
       "      <th>Last Amount Received as Payment</th>\n",
       "      <th>rm_employee_id</th>\n",
       "      <th>Loan Status</th>\n",
       "    </tr>\n",
       "  </thead>\n",
       "  <tbody>\n",
       "    <tr>\n",
       "      <th>0</th>\n",
       "      <td>30950</td>\n",
       "      <td>65888</td>\n",
       "      <td>60 months</td>\n",
       "      <td>1431.584629</td>\n",
       "      <td>Rental</td>\n",
       "      <td>339594</td>\n",
       "      <td>Verified</td>\n",
       "      <td>0</td>\n",
       "      <td>0</td>\n",
       "      <td>5</td>\n",
       "      <td>0</td>\n",
       "      <td>202068</td>\n",
       "      <td>0</td>\n",
       "      <td>1109.504629</td>\n",
       "      <td>1684</td>\n",
       "      <td>???</td>\n",
       "    </tr>\n",
       "    <tr>\n",
       "      <th>1</th>\n",
       "      <td>24049</td>\n",
       "      <td>11152</td>\n",
       "      <td>43 months</td>\n",
       "      <td>314.576057</td>\n",
       "      <td>Own</td>\n",
       "      <td>182048</td>\n",
       "      <td>Not Verified</td>\n",
       "      <td>0</td>\n",
       "      <td>38</td>\n",
       "      <td>13</td>\n",
       "      <td>0</td>\n",
       "      <td>34474</td>\n",
       "      <td>0</td>\n",
       "      <td>5963.406057</td>\n",
       "      <td>3867</td>\n",
       "      <td>???</td>\n",
       "    </tr>\n",
       "    <tr>\n",
       "      <th>2</th>\n",
       "      <td>38793</td>\n",
       "      <td>43872</td>\n",
       "      <td>45 months</td>\n",
       "      <td>1100.367522</td>\n",
       "      <td>Rental</td>\n",
       "      <td>721041</td>\n",
       "      <td>Not Verified</td>\n",
       "      <td>0</td>\n",
       "      <td>0</td>\n",
       "      <td>7</td>\n",
       "      <td>0</td>\n",
       "      <td>18086</td>\n",
       "      <td>0</td>\n",
       "      <td>29124.407520</td>\n",
       "      <td>230</td>\n",
       "      <td>???</td>\n",
       "    </tr>\n",
       "  </tbody>\n",
       "</table>\n",
       "</div>"
      ],
      "text/plain": [
       "   Loan Application Number  Loan Amount Loan Duration          EMI  \\\n",
       "0                    30950        65888     60 months  1431.584629   \n",
       "1                    24049        11152     43 months   314.576057   \n",
       "2                    38793        43872     45 months  1100.367522   \n",
       "\n",
       "  Home Ownership of Borrower  Annual Income of Borrower  \\\n",
       "0                     Rental                     339594   \n",
       "1                        Own                     182048   \n",
       "2                     Rental                     721041   \n",
       "\n",
       "  Borrower's Verification Status  Borrower Delinquency in Last Two Years  \\\n",
       "0                       Verified                                       0   \n",
       "1                   Not Verified                                       0   \n",
       "2                   Not Verified                                       0   \n",
       "\n",
       "   Number of Months Since the Borrower's Last Delinquency  \\\n",
       "0                                                  0        \n",
       "1                                                 38        \n",
       "2                                                  0        \n",
       "\n",
       "   Number of Times the Borrower has Availed Loan from the Bank  \\\n",
       "0                                                  5             \n",
       "1                                                 13             \n",
       "2                                                  7             \n",
       "\n",
       "   Number of Negative Comments About the Borrower in Credit History  \\\n",
       "0                                                  0                  \n",
       "1                                                  0                  \n",
       "2                                                  0                  \n",
       "\n",
       "   Total Credit Revolving Balance  Late Fees Received To Date  \\\n",
       "0                          202068                           0   \n",
       "1                           34474                           0   \n",
       "2                           18086                           0   \n",
       "\n",
       "   Last Amount Received as Payment  rm_employee_id Loan Status  \n",
       "0                      1109.504629            1684         ???  \n",
       "1                      5963.406057            3867         ???  \n",
       "2                     29124.407520             230         ???  "
      ]
     },
     "execution_count": 146,
     "metadata": {},
     "output_type": "execute_result"
    }
   ],
   "source": [
    "loan_eva.drop(['Borrower\\'s Duration of Employment','Borrower Rating by Bank',\n",
    "'Last Month Payment was Received','Purpose of Loan','Loan Issue Date',\n",
    "'Number of Times the Borrower has Availed Loan from All Banks',\n",
    "'Percentage of Credit the Borrower is Using Relative to All Available Revolving Credit', \n",
    "'Date of Borrower\\'s First  Loan','Interest Rate',\n",
    "'The Number of Months Since the Borrower\\'s Credit Record  was Updated',\n",
    "'Debt-to-Income Ratio (A ratio calculated based on Borrower\\'s monthly debt repayments to self-reported monthly income)'],axis=1, inplace=True)\n",
    "loan_eva['Number of Months Since the Borrower\\'s Last Delinquency'].fillna(0, inplace=True)\n",
    "loan_eva.head(3)"
   ]
  },
  {
   "cell_type": "code",
   "execution_count": 147,
   "metadata": {
    "collapsed": true
   },
   "outputs": [],
   "source": [
    "def verified(string):\n",
    "    if 'Not' in string:\n",
    "        return 0\n",
    "    else :\n",
    "        return 1\n",
    "    \n",
    "def fix_borrower(string):\n",
    "    if string in 'Under Mortgage':\n",
    "        return 0\n",
    "    elif string in 'Own':\n",
    "        return 2\n",
    "    if string in 'Rental':\n",
    "        return 1\n",
    "    if string in 'Other':\n",
    "        return -1\n",
    "    if string in 'Info Not Available':\n",
    "        return -2\n",
    "    \n",
    "def fix_loan(string):\n",
    "    return int(string.split()[0])\n",
    "\n",
    "def fix_float(string):\n",
    "    return round(string,2)\n",
    "\n",
    "loan_eva['EMI'] = loan_eva['EMI'].apply(fix_float)\n",
    "loan_eva['Last Amount Received as Payment'] = loan_eva['Last Amount Received as Payment'].apply(fix_float)\n",
    "loan_eva['Loan Duration'] = loan_eva['Loan Duration'].apply(fix_loan)\n",
    "loan_eva['Home Ownership of Borrower'] = loan_eva['Home Ownership of Borrower'].apply(fix_borrower)\n",
    "loan_eva['Borrower\\'s Verification Status'] = loan_eva['Borrower\\'s Verification Status'].apply(verified)"
   ]
  },
  {
   "cell_type": "code",
   "execution_count": 148,
   "metadata": {
    "collapsed": true
   },
   "outputs": [],
   "source": [
    "\"\"\" Fix Nan \"\"\"\n",
    "loan_eva['Borrower Delinquency in Last Two Years'].fillna(0, inplace=True)\n",
    "loan_eva['Number of Times the Borrower has Availed Loan from the Bank'].fillna(0, inplace=True)\n",
    "loan_eva['Number of Negative Comments About the Borrower in Credit History'].fillna(0, inplace=True)\n",
    "loan_eva['Total Credit Revolving Balance'].fillna(0, inplace=True)"
   ]
  },
  {
   "cell_type": "code",
   "execution_count": 150,
   "metadata": {
    "collapsed": false
   },
   "outputs": [
    {
     "data": {
      "text/html": [
       "<div>\n",
       "<table border=\"1\" class=\"dataframe\">\n",
       "  <thead>\n",
       "    <tr style=\"text-align: right;\">\n",
       "      <th></th>\n",
       "      <th>Loan Application Number</th>\n",
       "      <th>Loan Amount</th>\n",
       "      <th>Loan Duration</th>\n",
       "      <th>EMI</th>\n",
       "      <th>Home Ownership of Borrower</th>\n",
       "      <th>Annual Income of Borrower</th>\n",
       "      <th>Borrower's Verification Status</th>\n",
       "      <th>Borrower Delinquency in Last Two Years</th>\n",
       "      <th>Number of Months Since the Borrower's Last Delinquency</th>\n",
       "      <th>Number of Times the Borrower has Availed Loan from the Bank</th>\n",
       "      <th>Number of Negative Comments About the Borrower in Credit History</th>\n",
       "      <th>Total Credit Revolving Balance</th>\n",
       "      <th>Late Fees Received To Date</th>\n",
       "      <th>Last Amount Received as Payment</th>\n",
       "      <th>rm_employee_id</th>\n",
       "      <th>Loan Status</th>\n",
       "    </tr>\n",
       "  </thead>\n",
       "  <tbody>\n",
       "    <tr>\n",
       "      <th>0</th>\n",
       "      <td>30950</td>\n",
       "      <td>65888</td>\n",
       "      <td>60</td>\n",
       "      <td>1431.58</td>\n",
       "      <td>1</td>\n",
       "      <td>339594</td>\n",
       "      <td>1</td>\n",
       "      <td>0</td>\n",
       "      <td>0</td>\n",
       "      <td>5</td>\n",
       "      <td>0</td>\n",
       "      <td>202068</td>\n",
       "      <td>0</td>\n",
       "      <td>1109.50</td>\n",
       "      <td>1684</td>\n",
       "      <td>1</td>\n",
       "    </tr>\n",
       "    <tr>\n",
       "      <th>1</th>\n",
       "      <td>24049</td>\n",
       "      <td>11152</td>\n",
       "      <td>43</td>\n",
       "      <td>314.58</td>\n",
       "      <td>2</td>\n",
       "      <td>182048</td>\n",
       "      <td>0</td>\n",
       "      <td>0</td>\n",
       "      <td>38</td>\n",
       "      <td>13</td>\n",
       "      <td>0</td>\n",
       "      <td>34474</td>\n",
       "      <td>0</td>\n",
       "      <td>5963.41</td>\n",
       "      <td>3867</td>\n",
       "      <td>1</td>\n",
       "    </tr>\n",
       "    <tr>\n",
       "      <th>2</th>\n",
       "      <td>38793</td>\n",
       "      <td>43872</td>\n",
       "      <td>45</td>\n",
       "      <td>1100.37</td>\n",
       "      <td>1</td>\n",
       "      <td>721041</td>\n",
       "      <td>0</td>\n",
       "      <td>0</td>\n",
       "      <td>0</td>\n",
       "      <td>7</td>\n",
       "      <td>0</td>\n",
       "      <td>18086</td>\n",
       "      <td>0</td>\n",
       "      <td>29124.41</td>\n",
       "      <td>230</td>\n",
       "      <td>1</td>\n",
       "    </tr>\n",
       "    <tr>\n",
       "      <th>3</th>\n",
       "      <td>27884</td>\n",
       "      <td>123059</td>\n",
       "      <td>60</td>\n",
       "      <td>3117.46</td>\n",
       "      <td>1</td>\n",
       "      <td>597839</td>\n",
       "      <td>1</td>\n",
       "      <td>0</td>\n",
       "      <td>0</td>\n",
       "      <td>7</td>\n",
       "      <td>0</td>\n",
       "      <td>115711</td>\n",
       "      <td>0</td>\n",
       "      <td>3117.46</td>\n",
       "      <td>142</td>\n",
       "      <td>1</td>\n",
       "    </tr>\n",
       "    <tr>\n",
       "      <th>4</th>\n",
       "      <td>38157</td>\n",
       "      <td>76870</td>\n",
       "      <td>56</td>\n",
       "      <td>2069.76</td>\n",
       "      <td>1</td>\n",
       "      <td>372235</td>\n",
       "      <td>1</td>\n",
       "      <td>0</td>\n",
       "      <td>0</td>\n",
       "      <td>16</td>\n",
       "      <td>0</td>\n",
       "      <td>44331</td>\n",
       "      <td>0</td>\n",
       "      <td>40498.81</td>\n",
       "      <td>2874</td>\n",
       "      <td>1</td>\n",
       "    </tr>\n",
       "  </tbody>\n",
       "</table>\n",
       "</div>"
      ],
      "text/plain": [
       "   Loan Application Number  Loan Amount  Loan Duration      EMI  \\\n",
       "0                    30950        65888             60  1431.58   \n",
       "1                    24049        11152             43   314.58   \n",
       "2                    38793        43872             45  1100.37   \n",
       "3                    27884       123059             60  3117.46   \n",
       "4                    38157        76870             56  2069.76   \n",
       "\n",
       "   Home Ownership of Borrower  Annual Income of Borrower  \\\n",
       "0                           1                     339594   \n",
       "1                           2                     182048   \n",
       "2                           1                     721041   \n",
       "3                           1                     597839   \n",
       "4                           1                     372235   \n",
       "\n",
       "   Borrower's Verification Status  Borrower Delinquency in Last Two Years  \\\n",
       "0                               1                                       0   \n",
       "1                               0                                       0   \n",
       "2                               0                                       0   \n",
       "3                               1                                       0   \n",
       "4                               1                                       0   \n",
       "\n",
       "   Number of Months Since the Borrower's Last Delinquency  \\\n",
       "0                                                  0        \n",
       "1                                                 38        \n",
       "2                                                  0        \n",
       "3                                                  0        \n",
       "4                                                  0        \n",
       "\n",
       "   Number of Times the Borrower has Availed Loan from the Bank  \\\n",
       "0                                                  5             \n",
       "1                                                 13             \n",
       "2                                                  7             \n",
       "3                                                  7             \n",
       "4                                                 16             \n",
       "\n",
       "   Number of Negative Comments About the Borrower in Credit History  \\\n",
       "0                                                  0                  \n",
       "1                                                  0                  \n",
       "2                                                  0                  \n",
       "3                                                  0                  \n",
       "4                                                  0                  \n",
       "\n",
       "   Total Credit Revolving Balance  Late Fees Received To Date  \\\n",
       "0                          202068                           0   \n",
       "1                           34474                           0   \n",
       "2                           18086                           0   \n",
       "3                          115711                           0   \n",
       "4                           44331                           0   \n",
       "\n",
       "   Last Amount Received as Payment  rm_employee_id  Loan Status  \n",
       "0                          1109.50            1684            1  \n",
       "1                          5963.41            3867            1  \n",
       "2                         29124.41             230            1  \n",
       "3                          3117.46             142            1  \n",
       "4                         40498.81            2874            1  "
      ]
     },
     "execution_count": 150,
     "metadata": {},
     "output_type": "execute_result"
    }
   ],
   "source": [
    "X_eva = loan_eva.drop('Loan Status',axis=1)\n",
    "predict_eva = logmodel.predict(X_eva)\n",
    "X_eva['Loan Status'] = predict_eva\n",
    "X_eva.head()"
   ]
  },
  {
   "cell_type": "code",
   "execution_count": 152,
   "metadata": {
    "collapsed": true
   },
   "outputs": [],
   "source": [
    "X_eva.to_csv('C:/vikas/data/ML/loan_evaluation02_results.csv',index=False)"
   ]
  },
  {
   "cell_type": "markdown",
   "metadata": {},
   "source": [
    "# DONE !!!"
   ]
  },
  {
   "cell_type": "code",
   "execution_count": null,
   "metadata": {
    "collapsed": true
   },
   "outputs": [],
   "source": []
  }
 ],
 "metadata": {
  "kernelspec": {
   "display_name": "Python 2",
   "language": "python",
   "name": "python2"
  },
  "language_info": {
   "codemirror_mode": {
    "name": "ipython",
    "version": 2
   },
   "file_extension": ".py",
   "mimetype": "text/x-python",
   "name": "python",
   "nbconvert_exporter": "python",
   "pygments_lexer": "ipython2",
   "version": "2.7.11"
  }
 },
 "nbformat": 4,
 "nbformat_minor": 0
}
