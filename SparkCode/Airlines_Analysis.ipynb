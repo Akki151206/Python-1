{
 "cells": [
  {
   "cell_type": "markdown",
   "metadata": {},
   "source": [
    "We are going to do the analysis and predicting the score if Airlines delay on ord airport in year 2008. we have downloaded the data airlines and weather data from external sources"
   ]
  },
  {
   "cell_type": "markdown",
   "metadata": {},
   "source": [
    "# Importing the library/module required from spark"
   ]
  },
  {
   "cell_type": "code",
   "execution_count": 31,
   "metadata": {},
   "outputs": [],
   "source": [
    "# For SQL-type queries (Spark)\n",
    "from pyspark.sql import SQLContext\n",
    "from pyspark.sql.types import *\n",
    "from pyspark.sql import Row\n",
    "from pyspark.sql.functions import udf\n",
    "\n",
    "# For regression and other possible ML tools (Spark)\n",
    "from pyspark.ml.classification import LogisticRegression\n",
    "from pyspark.mllib.classification import LogisticRegressionWithLBFGS, LogisticRegressionModel\n",
    "from pyspark.mllib.regression import LabeledPoint\n",
    "from pyspark.mllib.evaluation import BinaryClassificationMetrics\n",
    "from pyspark.mllib.util import MLUtils\n",
    "\n",
    "# Typycal Python tools\n",
    "import sys\n",
    "import pandas as pd\n",
    "import os.path\n",
    "import numpy"
   ]
  },
  {
   "cell_type": "markdown",
   "metadata": {},
   "source": [
    "1. Loading the data into test and train RDDs after doing the preprocessing, In preprocessing we have merge the Airlines and weather data in order to extact the feature from the raw dataset.\n",
    "\n",
    "#Features\n",
    "\n",
    "1. delay : this the delay of the flight while taking off from the airport\n",
    "2. month : Month of the flight delay, Values should be between  1-12\n",
    "3. day   : day of the flight delay, values should be between 1-31\n",
    "4. dow   : day of the week, value should be between 0-7\n",
    "5. tow   : time of departure, what hour of the day flight take off\n",
    "6. distance : distance in mile from source to destination Airport\n",
    "7. temp_min : Minimum temperature of the flight delay's day\n",
    "8. temp_max : Maximum temperature of the flight delay's day\n"
   ]
  },
  {
   "cell_type": "markdown",
   "metadata": {},
   "source": [
    "# Loading the data into Test and Training RDD"
   ]
  },
  {
   "cell_type": "code",
   "execution_count": 3,
   "metadata": {},
   "outputs": [],
   "source": [
    "# loading the files into spark RDD\n",
    "trainRDD = sc.textFile(\"/user/hdfs/ord_2007/*\")\n",
    "testRDD = sc.textFile(\"/user/hdfs/ord_2008/*\")"
   ]
  },
  {
   "cell_type": "code",
   "execution_count": 4,
   "metadata": {},
   "outputs": [
    {
     "name": "stdout",
     "output_type": "stream",
     "text": [
      "Train Loaded: 7292467 Test Loaded: 6872294\n"
     ]
    }
   ],
   "source": [
    "print \"Train Loaded: %s Test Loaded: %s\" % (trainRDD.count(),testRDD.count())"
   ]
  },
  {
   "cell_type": "markdown",
   "metadata": {},
   "source": [
    "# Converting RDD to DataFrame"
   ]
  },
  {
   "cell_type": "code",
   "execution_count": 18,
   "metadata": {},
   "outputs": [],
   "source": [
    "def parse(r):\n",
    "    try:\n",
    "        x=Row(delay=int(r[0]),\\\n",
    "          month=int(r[1]),\\\n",
    "          day=int(r[2]),\\\n",
    "          dow=int(r[3]),\\\n",
    "          tod=int(r[4]), \\\n",
    "          distance=int(r[5]),\\\n",
    "          temp_min=int(r[6]),\\\n",
    "          temp_max=int(r[7]))  \n",
    "    except:\n",
    "        x=None  \n",
    "    return x\n",
    "\n",
    "\n",
    "rowRDD = trainRDD.map(lambda x: x.split(',')).map(lambda r: parse(r)).filter(lambda x: x != None)\n",
    "airlinetrain_df = sqlContext.createDataFrame(rowRDD)\n",
    "\n",
    "rowRDD = testRDD.map(lambda x: x.split(',')).map(lambda r: parse(r)).filter(lambda x: x != None)\n",
    "airlinetest_df = sqlContext.createDataFrame(rowRDD)"
   ]
  },
  {
   "cell_type": "code",
   "execution_count": 19,
   "metadata": {},
   "outputs": [
    {
     "data": {
      "text/plain": [
       "Row(day=1, delay=27, distance=86, dow=1, month=1, temp_max=61, temp_min=-17, tod=2)"
      ]
     },
     "execution_count": 19,
     "metadata": {},
     "output_type": "execute_result"
    }
   ],
   "source": [
    "airlinetrain_df.head()"
   ]
  },
  {
   "cell_type": "code",
   "execution_count": 20,
   "metadata": {},
   "outputs": [
    {
     "data": {
      "text/plain": [
       "Row(day=4, delay=-7, distance=1023, dow=5, month=1, temp_max=22, temp_min=-56, tod=2)"
      ]
     },
     "execution_count": 20,
     "metadata": {},
     "output_type": "execute_result"
    }
   ],
   "source": [
    "airlinetest_df.head()"
   ]
  },
  {
   "cell_type": "markdown",
   "metadata": {},
   "source": [
    "=> Adding a Addintion column with binary format like delay as 1 and no delay as 0. Filter out the delay if its more then 15 mins as delay else will consider as no delay."
   ]
  },
  {
   "cell_type": "code",
   "execution_count": 21,
   "metadata": {},
   "outputs": [],
   "source": [
    "# adding the depdelay column if delay is more than 15 mins\n",
    "def delay(x):\n",
    "    if x > 15 :\n",
    "        return 1\n",
    "    else :\n",
    "        return 0\n",
    "\n",
    "depdelay = udf(delay, IntegerType())\n",
    "\n",
    "airlinetrain_df= airlinetrain_df.withColumn(\"depdelay\", depdelay(\"delay\"))\n",
    "airlinetest_df= airlinetest_df.withColumn(\"depdelay\", depdelay(\"delay\"))"
   ]
  },
  {
   "cell_type": "code",
   "execution_count": 22,
   "metadata": {},
   "outputs": [
    {
     "data": {
      "text/plain": [
       "[Row(day=1, delay=27, distance=86, dow=1, month=1, temp_max=61, temp_min=-17, tod=2, depdelay=1)]"
      ]
     },
     "execution_count": 22,
     "metadata": {},
     "output_type": "execute_result"
    }
   ],
   "source": [
    "airlinetrain_df.take(1) # you can see if the delay is more than 15 its giving depdelay as 1"
   ]
  },
  {
   "cell_type": "code",
   "execution_count": 23,
   "metadata": {},
   "outputs": [
    {
     "data": {
      "text/plain": [
       "Row(day=4, delay=-7, distance=1023, dow=5, month=1, temp_max=22, temp_min=-56, tod=2, depdelay=0)"
      ]
     },
     "execution_count": 23,
     "metadata": {},
     "output_type": "execute_result"
    }
   ],
   "source": [
    "airlinetest_df.head()  # you can see if the delay is Less than 15 its giving depdelay as 0"
   ]
  },
  {
   "cell_type": "markdown",
   "metadata": {},
   "source": [
    "# Creating the LabeledPoint for logistic regression "
   ]
  },
  {
   "cell_type": "code",
   "execution_count": 24,
   "metadata": {},
   "outputs": [],
   "source": [
    "def parsePoint(line):\n",
    "    return LabeledPoint(line[8], line[:7])\n",
    "\n",
    "parseTrainData = airlinetrain_df.rdd.map(parsePoint)\n",
    "parseTestData = airlinetest_df.rdd.map(parsePoint)"
   ]
  },
  {
   "cell_type": "code",
   "execution_count": 25,
   "metadata": {},
   "outputs": [
    {
     "data": {
      "text/plain": [
       "[LabeledPoint(1.0, [1.0,27.0,86.0,1.0,1.0,61.0,-17.0]),\n",
       " LabeledPoint(0.0, [1.0,0.0,247.0,1.0,1.0,61.0,-17.0]),\n",
       " LabeledPoint(0.0, [1.0,-3.0,920.0,1.0,1.0,61.0,-17.0])]"
      ]
     },
     "execution_count": 25,
     "metadata": {},
     "output_type": "execute_result"
    }
   ],
   "source": [
    "parseTrainData.take(3)"
   ]
  },
  {
   "cell_type": "code",
   "execution_count": 26,
   "metadata": {},
   "outputs": [
    {
     "data": {
      "text/plain": [
       "[LabeledPoint(0.0, [4.0,-7.0,1023.0,5.0,1.0,22.0,-56.0]),\n",
       " LabeledPoint(0.0, [4.0,6.0,1671.0,5.0,1.0,22.0,-56.0]),\n",
       " LabeledPoint(0.0, [4.0,4.0,1013.0,5.0,1.0,22.0,-56.0])]"
      ]
     },
     "execution_count": 26,
     "metadata": {},
     "output_type": "execute_result"
    }
   ],
   "source": [
    "parseTestData.take(3)"
   ]
  },
  {
   "cell_type": "markdown",
   "metadata": {},
   "source": [
    "# Building the logistic Regression Model"
   ]
  },
  {
   "cell_type": "code",
   "execution_count": 29,
   "metadata": {},
   "outputs": [],
   "source": [
    "# Training the model with Training dataset with iteration as 10\n",
    "model = LogisticRegressionWithLBFGS.train(parseTrainData,iterations=10)"
   ]
  },
  {
   "cell_type": "code",
   "execution_count": 30,
   "metadata": {},
   "outputs": [
    {
     "name": "stdout",
     "output_type": "stream",
     "text": [
      "Training Error = 0.0192951582106\n"
     ]
    }
   ],
   "source": [
    "# now as the model is builed we can Evaluate the model on test dataset\n",
    "l_and_p = parseTestData.map(lambda p: (p.label, model.predict(p.features)))\n",
    "\n",
    "# Calculating the error value \n",
    "trainErr = l_and_p.filter(lambda x: x[0] != x[1]).count() / float(parseTestData.count())\n",
    "print(\"Training Error = \" + str(trainErr))"
   ]
  },
  {
   "cell_type": "markdown",
   "metadata": {},
   "source": [
    "# Calculating the Accuracy of the model "
   ]
  },
  {
   "cell_type": "code",
   "execution_count": 35,
   "metadata": {},
   "outputs": [
    {
     "name": "stdout",
     "output_type": "stream",
     "text": [
      "Model Accuracy for ORD: 98.07 %\n"
     ]
    }
   ],
   "source": [
    "def conf(r):\n",
    "    if r[0] == r[1] ==1: x= 'TP'\n",
    "    if r[0] == r[1] ==0: x= 'TN'\n",
    "    if r[0] == 1 and  r[1] ==0: x= 'FN'\n",
    "    if r[0] == 0 and  r[1] ==1: x= 'FP'\n",
    "    return (x)\n",
    "acc1 = l_and_p.map(lambda (v, p): ((v, p),1)).reduceByKey(lambda a, b: a + b).take(5)\n",
    "acc = [(conf(x[0]),x[1]) for x in acc1]\n",
    "\n",
    "TP=TN=FP=FN=0.0\n",
    "for x in acc: \n",
    "    if x[0]=='TP': TP= x[1]\n",
    "    if x[0]=='TN': TN= x[1]\n",
    "    if x[0]=='FP': FP= x[1]\n",
    "    if x[0]=='FN': FN= x[1]\n",
    "eps = sys.float_info.epsilon\n",
    "Accuracy = (TP+TN) / (TP + TN+ FP+FN+eps) \n",
    "print \"Model Accuracy for ORD: %1.2f %%\" % (Accuracy*100)"
   ]
  },
  {
   "cell_type": "markdown",
   "metadata": {},
   "source": [
    "# Thanks "
   ]
  }
 ],
 "metadata": {
  "kernelspec": {
   "display_name": "Python 2",
   "language": "python",
   "name": "python2"
  },
  "language_info": {
   "codemirror_mode": {
    "name": "ipython",
    "version": 2
   },
   "file_extension": ".py",
   "mimetype": "text/x-python",
   "name": "python",
   "nbconvert_exporter": "python",
   "pygments_lexer": "ipython2",
   "version": "2.7.5"
  }
 },
 "nbformat": 4,
 "nbformat_minor": 2
}
